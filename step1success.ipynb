{
 "cells": [
  {
   "cell_type": "code",
   "execution_count": 8,
   "id": "5076a141-2b42-48b7-a33e-290d15e63a10",
   "metadata": {},
   "outputs": [
    {
     "name": "stdout",
     "output_type": "stream",
     "text": [
      "Permission error: [Errno 13] Permission denied: 'D:/projml/MY_data\\\\predict\\\\test'\n",
      "Permission error: [Errno 13] Permission denied: 'D:/projml/MY_data\\\\predict\\\\testtest'\n",
      "Permission error: [Errno 13] Permission denied: 'D:/projml/MY_data\\\\predict\\\\train'\n",
      "Permission error: [Errno 13] Permission denied: 'D:/projml/MY_data\\\\predict\\\\predict'\n",
      "Permission error: [Errno 13] Permission denied: 'D:/projml/MY_data\\\\test\\\\mango'\n",
      "Permission error: [Errno 13] Permission denied: 'D:/projml/MY_data\\\\test\\\\stawberries'\n",
      "Permission error: [Errno 13] Permission denied: 'D:/projml/MY_data\\\\test\\\\avocado'\n",
      "Permission error: [Errno 13] Permission denied: 'D:/projml/MY_data\\\\test\\\\pinenapple'\n",
      "Permission error: [Errno 13] Permission denied: 'D:/projml/MY_data\\\\test\\\\predict'\n",
      "Permission error: [Errno 13] Permission denied: 'D:/projml/MY_data\\\\test\\\\test'\n",
      "Permission error: [Errno 13] Permission denied: 'D:/projml/MY_data\\\\test\\\\banana'\n",
      "Permission error: [Errno 13] Permission denied: 'D:/projml/MY_data\\\\test\\\\train'\n",
      "Permission error: [Errno 13] Permission denied: 'D:/projml/MY_data\\\\test\\\\watermelon'\n",
      "Permission error: [Errno 13] Permission denied: 'D:/projml/MY_data\\\\test\\\\orange'\n",
      "Permission error: [Errno 13] Permission denied: 'D:/projml/MY_data\\\\test\\\\kiwi'\n",
      "Permission error: [Errno 13] Permission denied: 'D:/projml/MY_data\\\\test\\\\cherry'\n",
      "Permission error: [Errno 13] Permission denied: 'D:/projml/MY_data\\\\train\\\\strawberries'\n",
      "Permission error: [Errno 13] Permission denied: 'D:/projml/MY_data\\\\train\\\\orange'\n",
      "Permission error: [Errno 13] Permission denied: 'D:/projml/MY_data\\\\train\\\\pinenapple'\n",
      "Permission error: [Errno 13] Permission denied: 'D:/projml/MY_data\\\\train\\\\cherry'\n",
      "Permission error: [Errno 13] Permission denied: 'D:/projml/MY_data\\\\train\\\\test'\n",
      "Permission error: [Errno 13] Permission denied: 'D:/projml/MY_data\\\\train\\\\Apple'\n",
      "Permission error: [Errno 13] Permission denied: 'D:/projml/MY_data\\\\train\\\\watermelon'\n",
      "Permission error: [Errno 13] Permission denied: 'D:/projml/MY_data\\\\train\\\\predict'\n",
      "Permission error: [Errno 13] Permission denied: 'D:/projml/MY_data\\\\train\\\\avocado'\n",
      "Permission error: [Errno 13] Permission denied: 'D:/projml/MY_data\\\\train\\\\train'\n",
      "Permission error: [Errno 13] Permission denied: 'D:/projml/MY_data\\\\train\\\\kiwi'\n",
      "Permission error: [Errno 13] Permission denied: 'D:/projml/MY_data\\\\train\\\\mango'\n",
      "Permission error: [Errno 13] Permission denied: 'D:/projml/MY_data\\\\train\\\\Banana'\n",
      "Found 2349 files belonging to 13 classes.\n"
     ]
    },
    {
     "name": "stderr",
     "output_type": "stream",
     "text": [
      "C:\\Users\\ASUS\\AppData\\Local\\Programs\\Python\\Python312\\Lib\\site-packages\\keras\\src\\layers\\preprocessing\\tf_data_layer.py:19: UserWarning: Do not pass an `input_shape`/`input_dim` argument to a layer. When using Sequential models, prefer using an `Input(shape)` object as the first layer in the model instead.\n",
      "  super().__init__(**kwargs)\n"
     ]
    },
    {
     "name": "stdout",
     "output_type": "stream",
     "text": [
      "Epoch 1/25\n",
      "\u001b[1m74/74\u001b[0m \u001b[32m━━━━━━━━━━━━━━━━━━━━\u001b[0m\u001b[37m\u001b[0m \u001b[1m21s\u001b[0m 227ms/step - accuracy: 0.1511 - loss: 2.7080\n",
      "Epoch 2/25\n",
      "\u001b[1m74/74\u001b[0m \u001b[32m━━━━━━━━━━━━━━━━━━━━\u001b[0m\u001b[37m\u001b[0m \u001b[1m16s\u001b[0m 213ms/step - accuracy: 0.3500 - loss: 1.8010\n",
      "Epoch 3/25\n",
      "\u001b[1m74/74\u001b[0m \u001b[32m━━━━━━━━━━━━━━━━━━━━\u001b[0m\u001b[37m\u001b[0m \u001b[1m16s\u001b[0m 216ms/step - accuracy: 0.5072 - loss: 1.4524\n",
      "Epoch 4/25\n",
      "\u001b[1m74/74\u001b[0m \u001b[32m━━━━━━━━━━━━━━━━━━━━\u001b[0m\u001b[37m\u001b[0m \u001b[1m16s\u001b[0m 207ms/step - accuracy: 0.6017 - loss: 1.2226\n",
      "Epoch 5/25\n",
      "\u001b[1m74/74\u001b[0m \u001b[32m━━━━━━━━━━━━━━━━━━━━\u001b[0m\u001b[37m\u001b[0m \u001b[1m16s\u001b[0m 210ms/step - accuracy: 0.6449 - loss: 1.0891\n",
      "Epoch 6/25\n",
      "\u001b[1m74/74\u001b[0m \u001b[32m━━━━━━━━━━━━━━━━━━━━\u001b[0m\u001b[37m\u001b[0m \u001b[1m16s\u001b[0m 211ms/step - accuracy: 0.7528 - loss: 0.7655\n",
      "Epoch 7/25\n",
      "\u001b[1m74/74\u001b[0m \u001b[32m━━━━━━━━━━━━━━━━━━━━\u001b[0m\u001b[37m\u001b[0m \u001b[1m16s\u001b[0m 211ms/step - accuracy: 0.8290 - loss: 0.5602\n",
      "Epoch 8/25\n",
      "\u001b[1m74/74\u001b[0m \u001b[32m━━━━━━━━━━━━━━━━━━━━\u001b[0m\u001b[37m\u001b[0m \u001b[1m16s\u001b[0m 213ms/step - accuracy: 0.8908 - loss: 0.3531\n",
      "Epoch 9/25\n",
      "\u001b[1m74/74\u001b[0m \u001b[32m━━━━━━━━━━━━━━━━━━━━\u001b[0m\u001b[37m\u001b[0m \u001b[1m16s\u001b[0m 212ms/step - accuracy: 0.9234 - loss: 0.2525\n",
      "Epoch 10/25\n",
      "\u001b[1m74/74\u001b[0m \u001b[32m━━━━━━━━━━━━━━━━━━━━\u001b[0m\u001b[37m\u001b[0m \u001b[1m16s\u001b[0m 214ms/step - accuracy: 0.9519 - loss: 0.1880\n",
      "Epoch 11/25\n",
      "\u001b[1m74/74\u001b[0m \u001b[32m━━━━━━━━━━━━━━━━━━━━\u001b[0m\u001b[37m\u001b[0m \u001b[1m16s\u001b[0m 213ms/step - accuracy: 0.9780 - loss: 0.1222\n",
      "Epoch 12/25\n",
      "\u001b[1m74/74\u001b[0m \u001b[32m━━━━━━━━━━━━━━━━━━━━\u001b[0m\u001b[37m\u001b[0m \u001b[1m16s\u001b[0m 214ms/step - accuracy: 0.9677 - loss: 0.1362\n",
      "Epoch 13/25\n",
      "\u001b[1m74/74\u001b[0m \u001b[32m━━━━━━━━━━━━━━━━━━━━\u001b[0m\u001b[37m\u001b[0m \u001b[1m16s\u001b[0m 211ms/step - accuracy: 0.9665 - loss: 0.1413\n",
      "Epoch 14/25\n",
      "\u001b[1m74/74\u001b[0m \u001b[32m━━━━━━━━━━━━━━━━━━━━\u001b[0m\u001b[37m\u001b[0m \u001b[1m16s\u001b[0m 214ms/step - accuracy: 0.9847 - loss: 0.0844\n",
      "Epoch 15/25\n",
      "\u001b[1m74/74\u001b[0m \u001b[32m━━━━━━━━━━━━━━━━━━━━\u001b[0m\u001b[37m\u001b[0m \u001b[1m16s\u001b[0m 215ms/step - accuracy: 0.9925 - loss: 0.0503\n",
      "Epoch 16/25\n",
      "\u001b[1m74/74\u001b[0m \u001b[32m━━━━━━━━━━━━━━━━━━━━\u001b[0m\u001b[37m\u001b[0m \u001b[1m16s\u001b[0m 212ms/step - accuracy: 0.9947 - loss: 0.0417\n",
      "Epoch 17/25\n",
      "\u001b[1m74/74\u001b[0m \u001b[32m━━━━━━━━━━━━━━━━━━━━\u001b[0m\u001b[37m\u001b[0m \u001b[1m16s\u001b[0m 214ms/step - accuracy: 0.9928 - loss: 0.0350\n",
      "Epoch 18/25\n",
      "\u001b[1m74/74\u001b[0m \u001b[32m━━━━━━━━━━━━━━━━━━━━\u001b[0m\u001b[37m\u001b[0m \u001b[1m16s\u001b[0m 214ms/step - accuracy: 0.9904 - loss: 0.0549\n",
      "Epoch 19/25\n",
      "\u001b[1m74/74\u001b[0m \u001b[32m━━━━━━━━━━━━━━━━━━━━\u001b[0m\u001b[37m\u001b[0m \u001b[1m16s\u001b[0m 216ms/step - accuracy: 0.9944 - loss: 0.0325\n",
      "Epoch 20/25\n",
      "\u001b[1m74/74\u001b[0m \u001b[32m━━━━━━━━━━━━━━━━━━━━\u001b[0m\u001b[37m\u001b[0m \u001b[1m16s\u001b[0m 215ms/step - accuracy: 0.9923 - loss: 0.0318\n",
      "Epoch 21/25\n",
      "\u001b[1m74/74\u001b[0m \u001b[32m━━━━━━━━━━━━━━━━━━━━\u001b[0m\u001b[37m\u001b[0m \u001b[1m16s\u001b[0m 215ms/step - accuracy: 0.9911 - loss: 0.0406\n",
      "Epoch 22/25\n",
      "\u001b[1m74/74\u001b[0m \u001b[32m━━━━━━━━━━━━━━━━━━━━\u001b[0m\u001b[37m\u001b[0m \u001b[1m16s\u001b[0m 215ms/step - accuracy: 0.9880 - loss: 0.0560\n",
      "Epoch 23/25\n",
      "\u001b[1m74/74\u001b[0m \u001b[32m━━━━━━━━━━━━━━━━━━━━\u001b[0m\u001b[37m\u001b[0m \u001b[1m16s\u001b[0m 217ms/step - accuracy: 0.9779 - loss: 0.0780\n",
      "Epoch 24/25\n",
      "\u001b[1m74/74\u001b[0m \u001b[32m━━━━━━━━━━━━━━━━━━━━\u001b[0m\u001b[37m\u001b[0m \u001b[1m16s\u001b[0m 215ms/step - accuracy: 0.9801 - loss: 0.0740\n",
      "Epoch 25/25\n",
      "\u001b[1m74/74\u001b[0m \u001b[32m━━━━━━━━━━━━━━━━━━━━\u001b[0m\u001b[37m\u001b[0m \u001b[1m16s\u001b[0m 217ms/step - accuracy: 0.9949 - loss: 0.0310\n"
     ]
    },
    {
     "name": "stderr",
     "output_type": "stream",
     "text": [
      "WARNING:absl:You are saving your model as an HDF5 file via `model.save()` or `keras.saving.save_model(model)`. This file format is considered legacy. We recommend using instead the native Keras format, e.g. `model.save('my_model.keras')` or `keras.saving.save_model(model, 'my_model.keras')`. \n"
     ]
    }
   ],
   "source": [
    "import os\n",
    "import shutil\n",
    "import random\n",
    "import tensorflow as tf\n",
    "from tensorflow.keras import layers, Sequential\n",
    "\n",
    "def split_dataset(data_source, data_train, data_test, data_predict, split_ratio=(0.7, 0.15, 0.15)):\n",
    "    if sum(split_ratio) != 1.0:\n",
    "        raise ValueError(\"Split ratio should sum up to 1.0\")\n",
    "\n",
    "    for class_name in os.listdir(data_source):\n",
    "        class_dir = os.path.join(data_source, class_name)\n",
    "        if os.path.isdir(class_dir):\n",
    "            files = os.listdir(class_dir)\n",
    "            random.shuffle(files)\n",
    "            num_files = len(files)\n",
    "\n",
    "            train_split = int(num_files * split_ratio[0])\n",
    "            test_split = int(num_files * split_ratio[1])\n",
    "\n",
    "            train_files = files[:train_split]\n",
    "            test_files = files[train_split:train_split + test_split]\n",
    "            predict_files = files[train_split + test_split:]\n",
    "\n",
    "            # Copy files to respective directories\n",
    "            for filename in train_files:\n",
    "                src = os.path.join(class_dir, filename)\n",
    "                dst = os.path.join(data_train, class_name)\n",
    "                try:\n",
    "                    os.makedirs(dst, exist_ok=True)\n",
    "                    shutil.copy(src, dst)\n",
    "                except PermissionError as e:\n",
    "                    print(f\"Permission error: {e}\")\n",
    "\n",
    "            for filename in test_files:\n",
    "                src = os.path.join(class_dir, filename)\n",
    "                dst = os.path.join(data_test, class_name)\n",
    "                try:\n",
    "                    os.makedirs(dst, exist_ok=True)\n",
    "                    shutil.copy(src, dst)\n",
    "                except PermissionError as e:\n",
    "                    print(f\"Permission error: {e}\")\n",
    "\n",
    "            for filename in predict_files:\n",
    "                src = os.path.join(class_dir, filename)\n",
    "                dst = os.path.join(data_predict, class_name)\n",
    "                try:\n",
    "                    os.makedirs(dst, exist_ok=True)\n",
    "                    shutil.copy(src, dst)\n",
    "                except PermissionError as e:\n",
    "                    print(f\"Permission error: {e}\")\n",
    "\n",
    "data_source = \"D:/projml/MY_data\"\n",
    "data_train = \"D:/projml/MY_data/train\"\n",
    "data_test = \"D:/projml/MY_data/test\"\n",
    "data_predict = \"D:/projml/MY_data/predict\"\n",
    "\n",
    "split_dataset(data_source, data_train, data_test, data_predict)\n",
    "\n",
    "img_width = 180\n",
    "img_height = 180\n",
    "\n",
    "data_train = tf.keras.utils.image_dataset_from_directory(\n",
    "    data_train,\n",
    "    shuffle=True,\n",
    "    image_size=(img_width, img_height),\n",
    "    batch_size=32,\n",
    "    validation_split=None\n",
    ")\n",
    "\n",
    "model = Sequential([\n",
    "    layers.Rescaling(1./255, input_shape=(img_width, img_height, 3)),\n",
    "    layers.Conv2D(16, 3, padding='same', activation='relu'),\n",
    "    layers.MaxPooling2D(),\n",
    "    layers.Conv2D(32, 3, padding='same', activation='relu'),\n",
    "    layers.MaxPooling2D(),\n",
    "    layers.Conv2D(64, 3, padding='same', activation='relu'),\n",
    "    layers.MaxPooling2D(),\n",
    "    layers.Flatten(),\n",
    "    layers.Dropout(0.2),\n",
    "    layers.Dense(128, activation='relu'),\n",
    "    layers.Dense(len(data_train.class_names))\n",
    "])\n",
    "\n",
    "model.compile(optimizer='adam', loss=tf.keras.losses.SparseCategoricalCrossentropy(from_logits=True), metrics=['accuracy'])\n",
    "\n",
    "history = model.fit(data_train, epochs=25)\n",
    "\n",
    "model.save('Image_classification_model.h5')\n"
   ]
  },
  {
   "cell_type": "code",
   "execution_count": 9,
   "id": "6c8171df-389b-4603-9311-7194104e7414",
   "metadata": {},
   "outputs": [
    {
     "ename": "KeyError",
     "evalue": "'val_accuracy'",
     "output_type": "error",
     "traceback": [
      "\u001b[1;31m---------------------------------------------------------------------------\u001b[0m",
      "\u001b[1;31mKeyError\u001b[0m                                  Traceback (most recent call last)",
      "Cell \u001b[1;32mIn[9], line 10\u001b[0m\n\u001b[0;32m      8\u001b[0m plt\u001b[38;5;241m.\u001b[39msubplot(\u001b[38;5;241m1\u001b[39m, \u001b[38;5;241m2\u001b[39m, \u001b[38;5;241m1\u001b[39m)\n\u001b[0;32m      9\u001b[0m plt\u001b[38;5;241m.\u001b[39mplot(epochs_range, history\u001b[38;5;241m.\u001b[39mhistory[\u001b[38;5;124m'\u001b[39m\u001b[38;5;124maccuracy\u001b[39m\u001b[38;5;124m'\u001b[39m], label\u001b[38;5;241m=\u001b[39m\u001b[38;5;124m'\u001b[39m\u001b[38;5;124mTraining Accuracy\u001b[39m\u001b[38;5;124m'\u001b[39m)\n\u001b[1;32m---> 10\u001b[0m plt\u001b[38;5;241m.\u001b[39mplot(epochs_range, \u001b[43mhistory\u001b[49m\u001b[38;5;241;43m.\u001b[39;49m\u001b[43mhistory\u001b[49m\u001b[43m[\u001b[49m\u001b[38;5;124;43m'\u001b[39;49m\u001b[38;5;124;43mval_accuracy\u001b[39;49m\u001b[38;5;124;43m'\u001b[39;49m\u001b[43m]\u001b[49m, label\u001b[38;5;241m=\u001b[39m\u001b[38;5;124m'\u001b[39m\u001b[38;5;124mValidation Accuracy\u001b[39m\u001b[38;5;124m'\u001b[39m)\n\u001b[0;32m     11\u001b[0m plt\u001b[38;5;241m.\u001b[39mtitle(\u001b[38;5;124m'\u001b[39m\u001b[38;5;124mTraining and Validation Accuracy\u001b[39m\u001b[38;5;124m'\u001b[39m)\n\u001b[0;32m     12\u001b[0m plt\u001b[38;5;241m.\u001b[39mxlabel(\u001b[38;5;124m'\u001b[39m\u001b[38;5;124mEpoch\u001b[39m\u001b[38;5;124m'\u001b[39m)\n",
      "\u001b[1;31mKeyError\u001b[0m: 'val_accuracy'"
     ]
    },
    {
     "data": {
      "image/png": "[encoded data removed]",
      "text/plain": [
       "<Figure size 1200x600 with 1 Axes>"
      ]
     },
     "metadata": {},
     "output_type": "display_data"
    }
   ],
   "source": [
    "import matplotlib.pyplot as plt\n",
    "\n",
    "epochs_range = range(len(history.history['accuracy']))  # Use len(history.history['accuracy']) to get the number of epochs\n",
    "\n",
    "plt.figure(figsize=(12, 6))\n",
    "\n",
    "# Plot training and validation accuracy\n",
    "plt.subplot(1, 2, 1)\n",
    "plt.plot(epochs_range, history.history['accuracy'], label='Training Accuracy')\n",
    "plt.plot(epochs_range, history.history['val_accuracy'], label='Validation Accuracy')\n",
    "plt.title('Training and Validation Accuracy')\n",
    "plt.xlabel('Epoch')\n",
    "plt.ylabel('Accuracy')\n",
    "plt.legend()\n",
    "\n",
    "# Plot training and validation loss\n",
    "plt.subplot(1, 2, 2)\n",
    "plt.plot(epochs_range, history.history['loss'], label='Training Loss')\n",
    "plt.plot(epochs_range, history.history['val_loss'], label='Validation Loss')\n",
    "plt.title('Training and Validation Loss')\n",
    "plt.xlabel('Epoch')\n",
    "plt.ylabel('Loss')\n",
    "plt.legend()\n",
    "\n",
    "plt.tight_layout()\n",
    "plt.show()"
   ]
  },
  {
   "cell_type": "code",
   "execution_count": 10,
   "id": "e13303a2-5652-48db-ae93-c27e1ee53bd9",
   "metadata": {},
   "outputs": [
    {
     "name": "stderr",
     "output_type": "stream",
     "text": [
      "WARNING:absl:Compiled the loaded model, but the compiled metrics have yet to be built. `model.compile_metrics` will be empty until you train or evaluate the model.\n"
     ]
    },
    {
     "name": "stdout",
     "output_type": "stream",
     "text": [
      "\u001b[1m1/1\u001b[0m \u001b[32m━━━━━━━━━━━━━━━━━━━━\u001b[0m\u001b[37m\u001b[0m \u001b[1m0s\u001b[0m 132ms/step\n",
      "The predicted class is: Apple\n",
      "The probability of the prediction is: 100.00%\n"
     ]
    }
   ],
   "source": [
    "def predict_image(image_path, model):\n",
    "    # Preprocess the input image\n",
    "    img = tf.keras.preprocessing.image.load_img(image_path, target_size=(img_width, img_height))\n",
    "    img_array = tf.keras.preprocessing.image.img_to_array(img)\n",
    "    img_array = tf.expand_dims(img_array, 0)  # Create a batch\n",
    "\n",
    "    # Make predictions\n",
    "    predictions = model.predict(img_array)\n",
    "    score = tf.nn.softmax(predictions[0])\n",
    "\n",
    "    # Get the predicted class and probability\n",
    "    predicted_class = data_train.class_names[np.argmax(score)]\n",
    "    probability = 100 * np.max(score)\n",
    "\n",
    "    return predicted_class, probability\n",
    "\n",
    "# Path to the image you want to predict\n",
    "image_path = \"D:\\\\projml\\\\ml.jpeg\"\n",
    "\n",
    "# Load the trained model\n",
    "model = tf.keras.models.load_model(\"Image_classification_model.h5\")\n",
    "\n",
    "# Predict the image\n",
    "predicted_class, probability = predict_image(image_path, model)\n",
    "\n",
    "# Display the prediction\n",
    "print(f\"The predicted class is: {predicted_class}\")\n",
    "print(f\"The probability of the prediction is: {probability:.2f}%\")\n"
   ]
  },
  {
   "cell_type": "code",
   "execution_count": null,
   "id": "67c73892-d395-4f49-9598-5b142f64c38b",
   "metadata": {},
   "outputs": [],
   "source": []
  }
 ],
 "metadata": {
  "kernelspec": {
   "display_name": "Python 3 (ipykernel)",
   "language": "python",
   "name": "python3"
  },
  "language_info": {
   "codemirror_mode": {
    "name": "ipython",
    "version": 3
   },
   "file_extension": ".py",
   "mimetype": "text/x-python",
   "name": "python",
   "nbconvert_exporter": "python",
   "pygments_lexer": "ipython3",
   "version": "3.12.1"
  },
  "widgets": {
   "application/vnd.jupyter.widget-state+json": {
    "state": {},
    "version_major": 2,
    "version_minor": 0
   }
  }
 },
 "nbformat": 4,
 "nbformat_minor": 5
}
